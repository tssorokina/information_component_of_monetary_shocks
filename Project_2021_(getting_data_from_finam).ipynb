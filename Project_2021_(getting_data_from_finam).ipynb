{
  "nbformat": 4,
  "nbformat_minor": 0,
  "metadata": {
    "colab": {
      "name": "Project 2021 (getting data from finam)",
      "provenance": [],
      "collapsed_sections": []
    },
    "kernelspec": {
      "name": "python3",
      "display_name": "Python 3"
    },
    "language_info": {
      "name": "python"
    }
  },
  "cells": [
    {
      "cell_type": "code",
      "source": [
        "import pandas as pd\n",
        "import numpy as np\n",
        "import urllib\n",
        "import requests\n",
        "from google.colab import drive\n",
        "from datetime import datetime, timedelta\n",
        "\n",
        "drive.mount('/content/drive')\n",
        "%cd '/content/drive/MyDrive/HSE/Project 2021/Prices'"
      ],
      "metadata": {
        "colab": {
          "base_uri": "https://localhost:8080/"
        },
        "id": "8P5F7i1IBxPJ",
        "outputId": "8e837c54-9051-4f51-f3ea-59f50c17f815"
      },
      "execution_count": 1,
      "outputs": [
        {
          "output_type": "stream",
          "name": "stdout",
          "text": [
            "Mounted at /content/drive\n",
            "/content/drive/MyDrive/HSE/Project 2021/Prices\n"
          ]
        }
      ]
    },
    {
      "cell_type": "code",
      "source": [
        "dates = pd.read_excel('/content/drive/MyDrive/HSE/Project 2021/cbr_previews.xlsx').date"
      ],
      "metadata": {
        "id": "d4kKKUs8CAS3"
      },
      "execution_count": 8,
      "outputs": []
    },
    {
      "cell_type": "markdown",
      "source": [
        "For the unusual time of the CBR release on the 16 December 2014 it was checked that the decision to raise the RR was actually made and published at night. the news, covering this decision were verified too. Therefore, it was decided to use the whole day after the release as the data source for the prices of the financial instruments."
      ],
      "metadata": {
        "id": "TxSqfjx6DQb_"
      }
    },
    {
      "cell_type": "markdown",
      "source": [
        "The financial instruments, chosen to estimate the news component of the monetary shock are: \n",
        "\n",
        "* MOEX: as a proxy for the stock market\n",
        "\n",
        "* "
      ],
      "metadata": {
        "id": "o_fsV6wyEG8f"
      }
    },
    {
      "cell_type": "markdown",
      "source": [
        "**If using my function**: please, check that your ticker is listed as an option! It is adapted specifically for my needs and is not particularly flexible.\n",
        "\n",
        "**Note**: if you need to get the data by ticks, you will have to choose a timeframe only for a day. the function is adapted specifically for one-day data. "
      ],
      "metadata": {
        "id": "UbabajJSAq6d"
      }
    },
    {
      "cell_type": "code",
      "source": [
        "# https://smart-lab.ru/blog/514941.php\n",
        "import time\n",
        "import csv\n",
        "from urllib.parse import urlencode\n",
        "from urllib.request import urlopen\n",
        "from datetime import datetime\n",
        "\n",
        "\n",
        "\n",
        "def stock_listing(market, ticker, dates, period):\n",
        "    ''' \n",
        "    market: 'stock', 'currency', 'index'\n",
        "    ticker name: str (e.g. \"MOEX\", \"USD000UTSTOM\")\n",
        "    dates: list of datetime objects\n",
        "    period: str (options: 'tick', 'min', '5min', '10min', '15min', '30min', 'hour', 'daily', 'week', 'month')\n",
        "    '''\n",
        "    if market == 'stock':\n",
        "        market = 0\n",
        "        tickers={'ABRD':82460,'AESL':181867,'AFKS':19715,'AFLT':29,'AGRO':399716,'AKRN':17564,'ALBK':82616,'ALNU':81882,'ALRS':81820, 'AMEZ':20702,'APTK':13855,'AQUA':35238,'ARMD':19676,'ARSA':19915,'ASSB':16452,'AVAN':82843,'AVAZ':39,'AVAZP':40,'BANE':81757,'BANEP':81758,'BGDE':175840,'BISV':35242,'BISVP':35243,'BLNG':21078,'BRZL':81901,'BSPB':20066,'CBOM':420694,'CHEP':20999,'CHGZ':81933,'CHKZ':21000,'CHMF':16136,'CHMK':21001,'CHZN':19960,'CLSB':16712,'CLSBP':16713,'CNTL':21002,'CNTLP':81575,'DASB':16825,'DGBZ':17919,'DIOD':35363,'DIXY':18564,'DVEC':19724,'DZRD':74744,'DZRDP':74745,'ELTZ':81934,'ENRU':16440,'EPLN':451471,'ERCO':81935,'FEES':20509,'FESH':20708,'FORTP':82164,'GAZA':81997,'GAZAP':81998,'GAZC':81398,'GAZP':16842,'GAZS':81399,'GAZT':82115,'GCHE':20125,'GMKN':795,'GRAZ':16610,'GRNT':449114,'GTLC':152876,'GTPR':175842,'GTSS':436120,'HALS':17698,'HIMC':81939,'HIMCP':81940,'HYDR':20266,'IDJT':388276,'IDVP':409486,'IGST':81885,'IGST03':81886,'IGSTP':81887,'IRAO':20516,'IRGZ':9,'IRKT':15547,'ISKJ':17137,'JNOS':15722,'JNOSP':15723,'KAZT':81941,'KAZTP':81942,'KBSB':19916,'KBTK':35285,'KCHE':20030,'KCHEP':20498,'KGKC':83261,'KGKCP':152350,'KLSB':16329,'KMAZ':15544,'KMEZ':22525,'KMTZ':81903,'KOGK':20710,'KRKN':81891,'KRKNP':81892,'KRKO':81905,'KRKOP':81906,'KROT':510,'KROTP':511,'KRSB':20912,'KRSBP':20913,'KRSG':15518,'KSGR':75094,'KTSB':16284,'KTSBP':16285,'KUBE':522,'KUNF':81943,'KUZB':83165,'KZMS':17359,'KZOS':81856,'KZOSP':81857,'LIFE':74584,'LKOH':8,'LNTA':385792,'LNZL':21004,'LNZLP':22094,'LPSB':16276,'LSNG':31,'LSNGP':542,'LSRG':19736,'LVHK':152517,'MAGE':74562,'MAGEP':74563,'MAGN':16782,'MERF':20947,'MFGS':30,'MFGSP':51,'MFON':152516,'MGNT':17086,'MGNZ':20892,'MGTS':12984,'MGTSP':12983,'MGVM':81829,'MISB':16330,'MISBP':16331,'MNFD':80390,'MOBB':82890,'MOEX':152798,'MORI':81944,'MOTZ':21116,'MRKC':20235,'MRKK':20412,'MRKP':20107,'MRKS':20346,'MRKU':20402,'MRKV':20286,'MRKY':20681,'MRKZ':20309,'MRSB':16359,'MSNG':6,'MSRS':16917,'MSST':152676,'MSTT':74549,'MTLR':21018,'MTLRP':80745,'MTSS':15523,'MUGS':81945,'MUGSP':81946,'MVID':19737,'NAUK':81992,'NFAZ':81287,'NKHP':450432,'NKNC':20100,'NKNCP':20101,'NKSH':81947,'NLMK':17046,'NMTP':19629,'NNSB':16615,'NNSBP':16616,'NPOF':81858,'NSVZ':81929,'NVTK':17370,'ODVA':20737,'OFCB':80728,'OGKB':18684,'OMSH':22891,'OMZZP':15844,'OPIN':20711,'OSMP':21006,'OTCP':407627,'PAZA':81896,'PHOR':81114,'PHST':19717,'PIKK':18654,'PLSM':81241,'PLZL':17123,'PMSB':16908,'PMSBP':16909,'POLY':175924,'PRFN':83121,'PRIM':17850,'PRIN':22806,'PRMB':80818,'PRTK':35247,'PSBR':152320,'QIWI':181610,'RASP':17713,'RBCM':74779,'RDRB':181755,'RGSS':181934,'RKKE':20321,'RLMN':152677,'RLMNP':388313,'RNAV':66644,'RODNP':66693,'ROLO':181316,'ROSB':16866,'ROSN':17273,'ROST':20637,'RSTI':20971,'RSTIP':20972,'RTGZ':152397,'RTKM':7,'RTKMP':15,'RTSB':16783,'RTSBP':16784,'RUAL':414279,'RUALR':74718,'RUGR':66893,'RUSI':81786,'RUSP':20712,'RZSB':16455,'SAGO':445,'SAGOP':70,'SARE':11,'SAREP':24,'SBER':3,'SBERP':23,'SELG':81360,'SELGP':82610,'SELL':21166,'SIBG':436091,'SIBN':2,'SKYC':83122,'SNGS':4,'SNGSP':13,'STSB':20087,'STSBP':20088,'SVAV':16080,'SYNG':19651,'SZPR':22401,'TAER':80593,'TANL':81914,'TANLP':81915,'TASB':16265,'TASBP':16266,'TATN':825,'TATNP':826,'TGKA':18382,'TGKB':17597,'TGKBP':18189,'TGKD':18310,'TGKDP':18391,'TGKN':18176,'TGKO':81899,'TNSE':420644,'TORS':16797,'TORSP':16798,'TRCN':74561,'TRMK':18441,'TRNFP':1012,'TTLK':18371,'TUCH':74746,'TUZA':20716,'UCSS':175781,'UKUZ':20717,'UNAC':22843,'UNKL':82493,'UPRO':18584,'URFD':75124,'URKA':19623,'URKZ':82611,'USBN':81953,'UTAR':15522,'UTII':81040,'UTSY':419504,'UWGN':414560,'VDSB':16352,'VGSB':16456,'VGSBP':16457,'VJGZ':81954,'VJGZP':81955,'VLHZ':17257,'VRAO':20958,'VRAOP':20959,'VRSB':16546,'VRSBP':16547,'VSMO':15965,'VSYD':83251,'VSYDP':83252,'VTBR':19043,'VTGK':19632,'VTRS':82886,'VZRZ':17068,'VZRZP':17067,'WTCM':19095,'WTCMP':19096,'YAKG':81917,'YKEN':81766,'YKENP':81769,'YNDX':388383,'YRSB':16342,'YRSBP':16343,'ZHIV':181674,'ZILL':81918,'ZMZN':556,'ZMZNP':603,'ZVEZ':82001}\n",
        "    elif market == 'currency':\n",
        "        market = 41\n",
        "        tickers = {'USD000UTSTOM': 182400, 'USD000000TOD': 182456, 'EUR_RUB__TOD':182441, 'EUR_RUB__TOM':182398}\n",
        "    elif market == 'index':\n",
        "        market = 91\n",
        "        tickers = {'RI.RGBI':420478}\n",
        "\n",
        "    periods = {'tick': 1, 'min': 2, '5min': 3, '10min': 4, '15min': 5, '30min': 6, 'hour': 7, 'daily': 8, 'week': 9, 'month': 10}\n",
        "    period = periods[period]\n",
        "    all_ticks = []\n",
        "    date_format = '%Y%m%d'\n",
        "    for date in dates:\n",
        "        start_date = date\n",
        "        end_date = timedelta(days=1)+start_date\n",
        "        params = urlencode([\n",
        "                        ('market', market), #на каком рынке торгуется бумага\n",
        "                        ('em', tickers[ticker]), #вытягиваем цифровой символ, который соответствует бумаге.\n",
        "                        ('code', ticker), #тикер нашей акции\n",
        "                        ('apply',0), #не нашёл что это значит. \n",
        "                        ('df', start_date.day), #Начальная дата, номер дня (1-31)\n",
        "                        ('mf', start_date.month - 1), #Начальная дата, номер месяца (0-11)\n",
        "                        ('yf', start_date.year), #Начальная дата, год\n",
        "                        ('from', start_date), #Начальная дата полностью\n",
        "                        ('dt', end_date.day), #Конечная дата, номер дня\t\n",
        "                        ('mt', end_date.month - 1), #Конечная дата, номер месяца\n",
        "                        ('yt', end_date.year), #Конечная дата, год\n",
        "                        ('to', end_date), #Конечная дата\n",
        "                        ('p', period), #Таймфрейм\n",
        "                        ('f', ticker+\"_\" + start_date.strftime('%Y%m%d') + \"_\" + end_date.strftime('%Y%m%d')), #Имя сформированного файла\n",
        "                        ('e', \".csv\"), #Расширение сформированного файла\n",
        "                        ('cn', ticker), #ещё раз тикер акции\t\n",
        "                        ('dtf', 1), #В каком формате брать даты. Выбор из 5 возможных. См. страницу https://www.finam.ru/profile/moex-akcii/sberbank/export/\n",
        "                        ('tmf', 1), #В каком формате брать время. Выбор из 4 возможных.\n",
        "                        ('MSOR', 0), #Время свечи (0 - open; 1 - close)\t\n",
        "                        ('mstime', \"on\"), #Московское время\t\n",
        "                        ('mstimever', 1), #Коррекция часового пояса\t\n",
        "                        ('sep', 1), #Разделитель полей\t(1 - запятая, 2 - точка, 3 - точка с запятой, 4 - табуляция, 5 - пробел)\n",
        "                        ('sep2', 1), #Разделитель разрядов\n",
        "                        ('datf', 1), #Формат записи в файл. Выбор из 6 возможных.\n",
        "                        ('at', 1)]) #Нужны ли заголовки столбцов\n",
        "        url = \"http://export.finam.ru/\" + ticker + \"_\" + start_date.strftime('%Y%m%d') + \"_\" + end_date.strftime('%Y%m%d') + \".csv?\" + params \n",
        "        print(url)\n",
        "        headers = {'User-Agent': 'Mozilla/5.0 (Macintosh; Intel Mac OS X 10_11_5) AppleWebKit/537.36 (KHTML, like Gecko) Chrome/50.0.2661.102 Safari/537.36'}\n",
        "        req = requests.get(url, headers=headers).content.decode('utf-8').splitlines()\n",
        "        df = pd.DataFrame(csv.reader(req, delimiter=','))\n",
        "        df.columns = df.iloc[0]\n",
        "        df = df.drop(df.index[[0]])\n",
        "        df['<DATE>'] = [datetime.strptime(date, \"%Y%m%d\").date() for date in df['<DATE>']]\n",
        "        df['<TIME>'] = [datetime.strptime(date, \"%H%M%S\").time() for date in df['<TIME>']]\n",
        "        df = df[['<TICKER>', '<DATE>', '<TIME>', '<OPEN>']]\n",
        "        df = df.rename(columns={'<TICKER>': 'ticker', '<DATE>': 'date',\n",
        "                           '<TIME>': 'time', '<OPEN>': 'price'})\n",
        "        df.to_excel(f'{ticker.lower()}_{start_date.strftime(date_format)}_checkpoint.xlsx')\n",
        "        all_ticks.append(df)\n",
        "\n",
        "    try: \n",
        "        return pd.concat(all_ticks).reset_index(drop=True)\n",
        "    except:\n",
        "        return all_ticks"
      ],
      "metadata": {
        "id": "xAr6MccCGrmT"
      },
      "execution_count": null,
      "outputs": []
    },
    {
      "cell_type": "code",
      "source": [
        "# let's get data for stocks as proxy for market response\n",
        "for stock in [\"MOEX\", \"SBER\", \"GAZP\", \"LKOH\", \"ROSN\"]:\n",
        "    data = stock_listing('stock', stock, dates, 'tick')\n",
        "    try:\n",
        "        data.to_excel(f'{stock.lower()}_prices.xlsx')\n",
        "    except:\n",
        "        pass\n",
        "# it took 2 h 37 mins"
      ],
      "metadata": {
        "colab": {
          "base_uri": "https://localhost:8080/"
        },
        "id": "fddfLnkiN7DH",
        "outputId": "64b1b0a9-fbf8-49d9-9608-e33baf978c7b"
      },
      "execution_count": null,
      "outputs": [
        {
          "output_type": "stream",
          "name": "stderr",
          "text": [
            "Exception ignored in: <function ZipFile.__del__ at 0x7fba93bffef0>\n",
            "Traceback (most recent call last):\n",
            "  File \"/usr/lib/python3.7/zipfile.py\", line 1809, in __del__\n",
            "    self.close()\n",
            "  File \"/usr/lib/python3.7/zipfile.py\", line 1826, in close\n",
            "    self.fp.seek(self.start_dir)\n",
            "ValueError: seek of closed file\n"
          ]
        }
      ]
    },
    {
      "cell_type": "code",
      "source": [
        "for currency in ['USD000UTSTOM', 'USD000000TOD', 'EUR_RUB__TOD', 'EUR_RUB__TOM']:\n",
        "    data = stock_listing('currency', currency, dates[:2], 'tick')\n",
        "    try:\n",
        "        data.to_excel(f'{currency.lower()}_prices.xlsx')\n",
        "    except:\n",
        "        pass"
      ],
      "metadata": {
        "id": "39ok4YbnbmI5"
      },
      "execution_count": null,
      "outputs": []
    },
    {
      "cell_type": "code",
      "source": [
        "# let's get data for the Russian government bonds\n",
        "data = stock_listing('index', 'RI.RGBI', dates[44:47], 'tick')"
      ],
      "metadata": {
        "id": "SG0rdXDL0n6Q"
      },
      "execution_count": null,
      "outputs": []
    },
    {
      "cell_type": "markdown",
      "source": [
        "Не смогла достать `'RI.RGBI'` для дат `dates[44:47]`, `'USD000UTSTOM', 'USD000000TOD', 'EUR_RUB__TOD', 'EUR_RUB__TOM'` - для `dates[66:]`"
      ],
      "metadata": {
        "id": "9879ECTMSSGF"
      }
    },
    {
      "cell_type": "code",
      "source": [
        "dates[44:47]"
      ],
      "metadata": {
        "colab": {
          "base_uri": "https://localhost:8080/"
        },
        "id": "l073gIxcGbMn",
        "outputId": "ad5c5210-9e01-4c25-db24-b42bc5f3aefe"
      },
      "execution_count": null,
      "outputs": [
        {
          "output_type": "execute_result",
          "data": {
            "text/plain": [
              "44   2016-06-10 13:30:00\n",
              "45   2016-04-29 13:30:00\n",
              "46   2016-03-18 13:30:00\n",
              "Name: date, dtype: datetime64[ns]"
            ]
          },
          "metadata": {},
          "execution_count": 51
        }
      ]
    },
    {
      "cell_type": "code",
      "source": [
        ""
      ],
      "metadata": {
        "id": "FOlW_SPxMHNG"
      },
      "execution_count": null,
      "outputs": []
    },
    {
      "cell_type": "code",
      "source": [
        "dates[-2:]"
      ],
      "metadata": {
        "colab": {
          "base_uri": "https://localhost:8080/"
        },
        "id": "xxVu0vcxiL2C",
        "outputId": "618f7865-ba17-4181-de0a-589557bb5232"
      },
      "execution_count": null,
      "outputs": [
        {
          "output_type": "execute_result",
          "data": {
            "text/plain": [
              "66   2013-11-08 10:27:00\n",
              "67   2013-10-14 11:05:00\n",
              "Name: date, dtype: datetime64[ns]"
            ]
          },
          "metadata": {},
          "execution_count": 6
        }
      ]
    },
    {
      "cell_type": "markdown",
      "source": [
        "For currency futures:"
      ],
      "metadata": {
        "id": "misNI5gPHV62"
      }
    },
    {
      "cell_type": "code",
      "source": [
        "# futures_usdrub = pd.DataFrame(columns=['date', 'release_time', '10_mins_before', '5_mins_after', '10_mins_after', '15_mins_after', '20_mins_after']) \n",
        "# for date in dates:\n",
        "#     url = f'https://www.finam.ru/profile/mosbirzha-fyuchersy/si/export/?market=14&em=19899&token=&code=Si&apply=0&df={date.day-1}&mf={date.month-1}&yf={date.year}&from={date.strftime('%m.%d.%Y')}&dt={date.day}&mt={date.month-1}&yt={date.year}&to={(date+timedelta(days=1)).strftime('%m.%d.%Y')}&p=1&f=Si_{date.strftime('%y%m%d')}_{(date+timedelta(days=1)).strftime('%y%m%d')}&e=.csv&cn=Si&dtf=4&tmf=3&MSOR=1&mstime=on&mstimever=1&sep=3&sep2=1&datf=1&at=1'\n",
        "#     df = pd.read_csv(url)"
      ],
      "metadata": {
        "id": "MdsmsixUHYzN"
      },
      "execution_count": null,
      "outputs": []
    },
    {
      "cell_type": "code",
      "source": [
        "# date = dates[0]\n",
        "# date\n",
        "# url = f\"http://export.finam.ru/Si_{date.strftime('%y%m%d')}_{(date+timedelta(days=1)).strftime('%y%m%d')}.csv?market=14&em=19899&code=Si&apply=0&df={date.day-1}&mf={date.month-1}&yf={date.year}&from={date}&dt={date.day}&mt={date.month-1}&yt={date.year}&to={(date+timedelta(days=1))}&p=1&f=Si_{date.strftime('%y%m%d')}_{(date+timedelta(days=1)).strftime('%y%m%d')}&e=.csv&cn=Si&dtf=1&tmf=1&MSOR=0&mstime=on&mstimever=1&sep=1&sep2=1&datf=1&at=1\"\n",
        "# headers = {'User-Agent': 'Mozilla/5.0 (Macintosh; Intel Mac OS X 10_11_5) AppleWebKit/537.36 (KHTML, like Gecko) Chrome/50.0.2661.102 Safari/537.36'}\n",
        "# req = requests.get(url, headers=headers).content.decode('utf-8').splitlines()\n",
        "# pd.DataFrame(csv.reader(req, delimiter=','))"
      ],
      "metadata": {
        "id": "DnLfT41qMhRC"
      },
      "execution_count": null,
      "outputs": []
    },
    {
      "cell_type": "markdown",
      "source": [
        "### Using existent library"
      ],
      "metadata": {
        "id": "b4TQDeYkW-qj"
      }
    },
    {
      "cell_type": "code",
      "source": [
        "!pip install finam-export"
      ],
      "metadata": {
        "id": "MwbXUMisXC1q"
      },
      "execution_count": null,
      "outputs": []
    },
    {
      "cell_type": "code",
      "source": [
        "from finam import Exporter, Market, LookupComparator, Timeframe\n",
        "\n",
        "exporter = Exporter()\n",
        "mask = [bool(('USD' in i)*('TOD' in i)) for i in exporter.lookup(market=Market.CURRENCIES)['name']]\n",
        "exporter.lookup(market=Market.CURRENCIES).iloc[mask]"
      ],
      "metadata": {
        "id": "BDsVBXL5XHV6"
      },
      "execution_count": 20,
      "outputs": []
    },
    {
      "cell_type": "code",
      "source": [
        "# getting euro/rub exchange rate (no data from dates[66:])\n",
        "\n",
        "delta = pd.DataFrame(columns=['date', 'release_time', 'ten_mins_before', 'ten_mins_after', 'fifteen_mins_after', 'twenty_mins_after'])\n",
        "for d in range(len(dates)-2):\n",
        "    df = exporter.download(182441, market=Market.CURRENCIES, \n",
        "                  timeframe=Timeframe.MINUTES1, \n",
        "                  start_date=datetime(dates[d].year, dates[d].month, dates[d].day),\n",
        "                  end_date=datetime(dates[d].year, dates[d].month, dates[d].day))\n",
        "    df['date'] = [0]*len(df)\n",
        "    for i in range(len(df)):\n",
        "        df['date'][i] = datetime(int(str(df['<DATE>'][i])[:4]),\n",
        "                                          int(str(df['<DATE>'][i])[4:6]),\n",
        "                                          int(str(df['<DATE>'][i])[6:]),\n",
        "                                          int(str(df['<TIME>'][i])[:2]),\n",
        "                                          int(str(df['<TIME>'][i])[3:5])\n",
        "                                          )\n",
        "    day_of_preview = datetime(df['date'][len(df)-1].year, df['date'][len(df)-1].month, df['date'][len(df)-1].day)\n",
        "\n",
        "    date_time_of_preview = dates[[bool((date.year == day_of_preview.year)*(date.month == day_of_preview.month)*(date.day == day_of_preview.day)) for date in dates]].iloc[0]\n",
        "    try:\n",
        "        delta = delta.append({'date': date_time_of_preview,\n",
        "                                  'release_time': df[df['date'] <= date_time_of_preview]['<OPEN>'].iloc[-1],\n",
        "                                  'ten_mins_before': df[df['date'] <= date_time_of_preview-timedelta(minutes=10)]['<OPEN>'].iloc[-1],\n",
        "                                  'ten_mins_after': df[df['date'] >= date_time_of_preview+timedelta(minutes=10)]['<OPEN>'].iloc[0],\n",
        "                                  'fifteen_mins_after': df[df['date'] >= date_time_of_preview+timedelta(minutes=15)]['<OPEN>'].iloc[0],\n",
        "                                  'twenty_mins_after': df[df['date'] >= date_time_of_preview+timedelta(minutes=20)]['<OPEN>'].iloc[0]\n",
        "                                    }, ignore_index=True)\n",
        "    except:\n",
        "        new_time = df[df['date'] > date_time_of_preview]['date'].iloc[0]\n",
        "        delta = delta.append({'date': new_time,\n",
        "                              'release_time': df[df['date'] == new_time]['<OPEN>'].iloc[0],\n",
        "                              'ten_mins_before': df[df['date'] == new_time]['<OPEN>'].iloc[0], # seeing that on 15 december 2014 the release was posted at 00:28, we will not include any 10 mins before here.\n",
        "                              'ten_mins_after': df[df['date'] >= new_time+timedelta(minutes=10)]['<OPEN>'].iloc[0],\n",
        "                              'fifteen_mins_after': df[df['date'] >= date_time_of_preview+timedelta(minutes=15)]['<OPEN>'].iloc[0],\n",
        "                              'twenty_mins_after': df[df['date'] >= new_time+timedelta(minutes=20)]['<OPEN>'].iloc[0]\n",
        "                                }, ignore_index=True)"
      ],
      "metadata": {
        "id": "BRYbQvU_NoBI"
      },
      "execution_count": null,
      "outputs": []
    },
    {
      "cell_type": "code",
      "source": [
        "delta = pd.DataFrame(columns=['date', 'release_time', 'ten_mins_before', 'ten_mins_after', 'fifteen_mins_after', 'twenty_mins_after'])\n",
        "for d in range(len(dates)-2):\n",
        "    df = exporter.download(182456, market=Market.CURRENCIES, \n",
        "                  timeframe=Timeframe.MINUTES1, \n",
        "                  start_date=datetime(dates[d].year, dates[d].month, dates[d].day),\n",
        "                  end_date=datetime(dates[d].year, dates[d].month, dates[d].day))\n",
        "    df['date'] = [0]*len(df)\n",
        "    for i in range(len(df)):\n",
        "        df['date'][i] = datetime(int(str(df['<DATE>'][i])[:4]),\n",
        "                                          int(str(df['<DATE>'][i])[4:6]),\n",
        "                                          int(str(df['<DATE>'][i])[6:]),\n",
        "                                          int(str(df['<TIME>'][i])[:2]),\n",
        "                                          int(str(df['<TIME>'][i])[3:5])\n",
        "                                          )\n",
        "    day_of_preview = datetime(df['date'][len(df)-1].year, df['date'][len(df)-1].month, df['date'][len(df)-1].day)\n",
        "\n",
        "    date_time_of_preview = dates[[bool((date.year == day_of_preview.year)*(date.month == day_of_preview.month)*(date.day == day_of_preview.day)) for date in dates]].iloc[0]\n",
        "    try:\n",
        "        delta = delta.append({'date': date_time_of_preview,\n",
        "                                  'release_time': df[df['date'] <= date_time_of_preview]['<OPEN>'].iloc[-1],\n",
        "                                  'ten_mins_before': df[df['date'] <= date_time_of_preview-timedelta(minutes=10)]['<OPEN>'].iloc[-1],\n",
        "                                  'ten_mins_after': df[df['date'] >= date_time_of_preview+timedelta(minutes=10)]['<OPEN>'].iloc[0],\n",
        "                                  'fifteen_mins_after': df[df['date'] >= date_time_of_preview+timedelta(minutes=15)]['<OPEN>'].iloc[0],\n",
        "                                  'twenty_mins_after': df[df['date'] >= date_time_of_preview+timedelta(minutes=20)]['<OPEN>'].iloc[0]\n",
        "                                    }, ignore_index=True)\n",
        "    except:\n",
        "        new_time = df[df['date'] > date_time_of_preview]['date'].iloc[0]\n",
        "        delta = delta.append({'date': new_time,\n",
        "                              'release_time': df[df['date'] == new_time]['<OPEN>'].iloc[0],\n",
        "                              'ten_mins_before': df[df['date'] == new_time]['<OPEN>'].iloc[0], # seeing that on 15 december 2014 the release was posted at 00:28, we will not include any 10 mins before here.\n",
        "                              'ten_mins_after': df[df['date'] >= new_time+timedelta(minutes=10)]['<OPEN>'].iloc[0],\n",
        "                              'fifteen_mins_after': df[df['date'] >= date_time_of_preview+timedelta(minutes=15)]['<OPEN>'].iloc[0],\n",
        "                              'twenty_mins_after': df[df['date'] >= new_time+timedelta(minutes=20)]['<OPEN>'].iloc[0]\n",
        "                                }, ignore_index=True)"
      ],
      "metadata": {
        "id": "B_zPFw62U6gH"
      },
      "execution_count": null,
      "outputs": []
    },
    {
      "cell_type": "code",
      "source": [
        "delta.to_csv('deltas_for_usd_rub.csv')"
      ],
      "metadata": {
        "id": "ZF_95JQcS7wd"
      },
      "execution_count": 80,
      "outputs": []
    }
  ]
}